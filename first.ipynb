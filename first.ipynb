{
 "cells": [
  {
   "cell_type": "code",
   "execution_count": 2,
   "metadata": {},
   "outputs": [],
   "source": [
    "import pandas as pd\n",
    "\n",
    "# Create a sample dataset\n",
    "data = {\n",
    "    'plant_name': ['Fern', 'Cactus', 'Bamboo', 'Rose', 'Tulip', 'Daisy', 'Sunflower', 'Lily', 'Orchid', 'Maple'],\n",
    "    'sunlight_exposure': [5, 10, 12, 8, 6, 7, 14, 11, 9, 5],  # hours of sunlight\n",
    "    'plant_height': [30, 150, 200, 60, 50, 40, 180, 70, 40, 20]  # height in cm\n",
    "}\n",
    "\n",
    "df = pd.DataFrame(data)\n",
    "\n"
   ]
  },
  {
   "cell_type": "code",
   "execution_count": 4,
   "metadata": {},
   "outputs": [
    {
     "data": {
      "image/png": "[encoded data removed]",
      "text/plain": [
       "<Figure size 640x480 with 1 Axes>"
      ]
     },
     "metadata": {},
     "output_type": "display_data"
    }
   ],
   "source": [
    "import matplotlib.pyplot as plt\n",
    "\n",
    "plt.scatter(df['sunlight_exposure'],df['plant_height'])\n",
    "plt.title('Sunlight Exposure vs Plant Height')\n",
    "plt.xlabel('Hours of sunlight Exposure')\n",
    "plt.ylabel('Plant Height(cm)')\n",
    "plt.grid(True)\n",
    "plt.show()"
   ]
  },
  {
   "cell_type": "code",
   "execution_count": 6,
   "metadata": {},
   "outputs": [
    {
     "data": {
      "text/html": [
       "<div>\n",
       "<style scoped>\n",
       "    .dataframe tbody tr th:only-of-type {\n",
       "        vertical-align: middle;\n",
       "    }\n",
       "\n",
       "    .dataframe tbody tr th {\n",
       "        vertical-align: top;\n",
       "    }\n",
       "\n",
       "    .dataframe thead th {\n",
       "        text-align: right;\n",
       "    }\n",
       "</style>\n",
       "<table border=\"1\" class=\"dataframe\">\n",
       "  <thead>\n",
       "    <tr style=\"text-align: right;\">\n",
       "      <th></th>\n",
       "      <th>sunlight_exposure</th>\n",
       "      <th>plant_height</th>\n",
       "    </tr>\n",
       "  </thead>\n",
       "  <tbody>\n",
       "    <tr>\n",
       "      <th>sunlight_exposure</th>\n",
       "      <td>1.000000</td>\n",
       "      <td>0.847879</td>\n",
       "    </tr>\n",
       "    <tr>\n",
       "      <th>plant_height</th>\n",
       "      <td>0.847879</td>\n",
       "      <td>1.000000</td>\n",
       "    </tr>\n",
       "  </tbody>\n",
       "</table>\n",
       "</div>"
      ],
      "text/plain": [
       "                   sunlight_exposure  plant_height\n",
       "sunlight_exposure           1.000000      0.847879\n",
       "plant_height                0.847879      1.000000"
      ]
     },
     "execution_count": 6,
     "metadata": {},
     "output_type": "execute_result"
    }
   ],
   "source": [
    "df_reduced = df[['sunlight_exposure','plant_height']]\n",
    "df_reduced.corr()\n"
   ]
  },
  {
   "cell_type": "code",
   "execution_count": 10,
   "metadata": {},
   "outputs": [
    {
     "name": "stdout",
     "output_type": "stream",
     "text": [
      "Correlation coefficient : 0.8478793420810257\n"
     ]
    }
   ],
   "source": [
    "correlation = df['sunlight_exposure'].corr(df['plant_height'])\n",
    "print('Correlation coefficient :',correlation)"
   ]
  },
  {
   "cell_type": "code",
   "execution_count": 11,
   "metadata": {},
   "outputs": [
    {
     "name": "stdout",
     "output_type": "stream",
     "text": [
      "There is a strong positive correlation between the variables\n"
     ]
    }
   ],
   "source": [
    "if correlation > 0:\n",
    "    strength = \"strong\" if abs(correlation)> 0.7 else \"weak\"\n",
    "    print('There is a',strength,'positive correlation between the variables')\n",
    "elif correlation < 0:\n",
    "    strength = \"strong\" if abs(correlation)> 0.7 else \"weak\"\n",
    "    print('There is a',strength,'negative correlation between the variables')\n",
    "else:\n",
    "    print('There is no relation between the two variables')    "
   ]
  }
 ],
 "metadata": {
  "kernelspec": {
   "display_name": "Python 3",
   "language": "python",
   "name": "python3"
  },
  "language_info": {
   "codemirror_mode": {
    "name": "ipython",
    "version": 3
   },
   "file_extension": ".py",
   "mimetype": "text/x-python",
   "name": "python",
   "nbconvert_exporter": "python",
   "pygments_lexer": "ipython3",
   "version": "3.11.9"
  }
 },
 "nbformat": 4,
 "nbformat_minor": 2
}
